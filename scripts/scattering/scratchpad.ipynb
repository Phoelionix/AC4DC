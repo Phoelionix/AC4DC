{
 "cells": [
  {
   "cell_type": "code",
   "execution_count": 13,
   "metadata": {},
   "outputs": [
    {
     "name": "stdout",
     "output_type": "stream",
     "text": [
      "[[0.+0.j 0.+0.j 0.+0.j 0.+0.j 0.+0.j 0.+0.j]]\n",
      "(1, 6)\n",
      "(6,)\n",
      "[[10.+0.j 20.+0.j 30.+0.j 40.+0.j 50.+0.j 60.+0.j]]\n"
     ]
    }
   ],
   "source": [
    "import numpy as np\n",
    "\n",
    "point_phi = 0.1\n",
    "phis = np.array([point_phi])\n",
    "\n",
    "t_fineness = 6\n",
    "F_sum = np.zeros(phis.shape+(t_fineness,),dtype=\"complex_\")\n",
    "\n",
    "print(F_sum)\n",
    "\n",
    "f = np.array([1,2,3,4,5,6])\n",
    "\n",
    "T = 10\n",
    "print(F_sum.shape)\n",
    "print(f.shape)\n",
    "F_sum += f*T  \n",
    "print(F_sum)"
   ]
  },
  {
   "cell_type": "code",
   "execution_count": null,
   "metadata": {},
   "outputs": [],
   "source": []
  }
 ],
 "metadata": {
  "kernelspec": {
   "display_name": "Python 3",
   "language": "python",
   "name": "python3"
  },
  "language_info": {
   "codemirror_mode": {
    "name": "ipython",
    "version": 3
   },
   "file_extension": ".py",
   "mimetype": "text/x-python",
   "name": "python",
   "nbconvert_exporter": "python",
   "pygments_lexer": "ipython3",
   "version": "3.9.16"
  },
  "orig_nbformat": 4
 },
 "nbformat": 4,
 "nbformat_minor": 2
}
